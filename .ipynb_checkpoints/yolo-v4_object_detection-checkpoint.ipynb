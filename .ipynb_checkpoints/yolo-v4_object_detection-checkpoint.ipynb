{
 "cells": [
  {
   "cell_type": "code",
   "execution_count": null,
   "id": "d3523938",
   "metadata": {},
   "outputs": [],
   "source": [
    "# Libraries Importation\n",
    "import cv2\n",
    "import time\n",
    "import pandas as pd"
   ]
  },
  {
   "cell_type": "code",
   "execution_count": null,
   "id": "f1a8c579",
   "metadata": {},
   "outputs": [],
   "source": [
    "#Define Constants\n",
    "Conf_threshold = 0.4\n",
    "NMS_threshold = 0.4\n",
    "COLORS = [(0, 255, 0), (0, 0, 255), (255, 0, 0),\n",
    "          (255, 255, 0), (255, 0, 255), (0, 255, 255)]"
   ]
  },
  {
   "cell_type": "code",
   "execution_count": null,
   "id": "f235eb56",
   "metadata": {},
   "outputs": [],
   "source": [
    "# prepare the yolo-v4 model\n",
    "class_name = []\n",
    "with open('classes.txt', 'r') as f:\n",
    "    class_name = [cname.strip() for cname in f.readlines()]\n",
    "net = cv2.dnn.readNet('yolov4-tiny.weights', 'yolov4-tiny.cfg')\n",
    "net.setPreferableBackend(cv2.dnn.DNN_BACKEND_CUDA)\n",
    "net.setPreferableTarget(cv2.dnn.DNN_TARGET_CUDA_FP16)\n",
    "\n",
    "model = cv2.dnn_DetectionModel(net)\n",
    "model.setInputParams(size=(416, 416), scale=1/255, swapRB=True)"
   ]
  },
  {
   "cell_type": "markdown",
   "id": "18a85e76",
   "metadata": {},
   "source": [
    "# Detection on Images"
   ]
  },
  {
   "cell_type": "code",
   "execution_count": null,
   "id": "a7c4248e",
   "metadata": {},
   "outputs": [],
   "source": [
    "#Enter the image path and read the image\n",
    "image_path = \"Enter the image path here\"\n",
    "image = cv2.imread(image_path)\n",
    "#Create a list that will hold the detected objects labels\n",
    "my_list_label = []\n",
    "color = (0, 0, 0)\n",
    "thickness = 2\n",
    "\n",
    "classes, scores, boxes = model.detect(image, Conf_threshold, NMS_threshold)\n",
    "for (classid, score, box) in zip(classes, scores, boxes):\n",
    "    color = COLORS[int(classid) % len(COLORS)]\n",
    "    #Output label without score\n",
    "    label = \"%s\" % (class_name[classid[0]])\n",
    "    my_list_label.append(label)\n",
    "    #To output labels with score uncomment the next line and replace \"label\" in cv2.putText by label_with_score\n",
    "    #label_with_score = \"%s : %f\" % (class_name[classid[0]], score)\n",
    "    cv2.rectangle(image, box, color, 2)\n",
    "    cv2.putText(image, label, (box[0], box[1]-10),cv2.FONT_HERSHEY_COMPLEX, 0.3, color, 1)\n",
    "    #Save the image with detection\n",
    "    cv2.imwrite(\"detection_on_image.jpg\", image)\n",
    "    \n",
    "cv2.imshow('frame', image)\n",
    "cv2.waitKey(0)\n",
    "cv2.destroyAllWindows()\n",
    "\n",
    "print(\"Objects Detected:\\n\")\n",
    "#display the detected objects and their number.\n",
    "detection_count = pd.Series(my_list_label).value_counts()\n",
    "print(detection_count)"
   ]
  },
  {
   "cell_type": "markdown",
   "id": "4a5b0276",
   "metadata": {},
   "source": [
    "# Detection on Videos"
   ]
  },
  {
   "cell_type": "code",
   "execution_count": null,
   "id": "d3fe77f2",
   "metadata": {},
   "outputs": [],
   "source": [
    "video_path = \"Enter the video path here\"\n",
    "cap = cv2.VideoCapture(video_path)\n",
    "if (cap.isOpened() == False):\n",
    "    print(\"Error reading video file\")\n",
    "    \n",
    "#Get the video width and height and convert their values from float to integer\n",
    "frame_width = int(cap.get(3))\n",
    "frame_height = int(cap.get(4))\n",
    "\n",
    "size = (frame_width, frame_height)\n",
    "\n",
    "save_video = cv2.VideoWriter('video_detection.avi',cv2.VideoWriter_fourcc(*'MJPG'),10, size)\n",
    "    \n",
    "starting_time = time.time()\n",
    "frame_counter = 0\n",
    "while True:\n",
    "    ret, frame = cap.read()\n",
    "    frame_counter += 1\n",
    "    if ret == False:\n",
    "        break\n",
    "    classes, scores, boxes = model.detect(frame, Conf_threshold, NMS_threshold)\n",
    "    for (classid, score, box) in zip(classes, scores, boxes):\n",
    "        color = COLORS[int(classid) % len(COLORS)]\n",
    "        label = \"%s\" % (class_name[classid[0]])\n",
    "        my_list_label.append(label)\n",
    "        #label_score = \"%s : %f\" % (class_name[classid[0]], score)\n",
    "        cv2.rectangle(frame, box, color, 1)\n",
    "        cv2.putText(frame, label, (box[0], box[1]-10),cv2.FONT_HERSHEY_COMPLEX, 0.3, color, 1)\n",
    "        \n",
    "    endingTime = time.time() - starting_time\n",
    "    fps = frame_counter/endingTime\n",
    "    # print(fps)\n",
    "    cv2.putText(frame, f'FPS: {fps}', (20, 50),cv2.FONT_HERSHEY_COMPLEX, 0.7, (0, 255, 0), 2)\n",
    "    cv2.imshow('frame', frame)\n",
    "    save_video.write(frame)\n",
    "    key = cv2.waitKey(1)\n",
    "    if key == ord('q'):\n",
    "        break\n",
    "cap.release()\n",
    "save_video.release()\n",
    "cv2.destroyAllWindows()"
   ]
  }
 ],
 "metadata": {
  "kernelspec": {
   "display_name": "Python 3",
   "language": "python",
   "name": "python3"
  },
  "language_info": {
   "codemirror_mode": {
    "name": "ipython",
    "version": 3
   },
   "file_extension": ".py",
   "mimetype": "text/x-python",
   "name": "python",
   "nbconvert_exporter": "python",
   "pygments_lexer": "ipython3",
   "version": "3.8.0"
  }
 },
 "nbformat": 4,
 "nbformat_minor": 5
}
